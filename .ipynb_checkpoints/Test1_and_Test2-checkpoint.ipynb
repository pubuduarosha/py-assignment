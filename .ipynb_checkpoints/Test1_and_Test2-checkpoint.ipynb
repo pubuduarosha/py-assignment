{
 "cells": [
  {
   "cell_type": "markdown",
   "id": "a500e81f",
   "metadata": {},
   "source": [
    "a)"
   ]
  },
  {
   "cell_type": "code",
   "execution_count": 1,
   "id": "964c96f0",
   "metadata": {},
   "outputs": [],
   "source": [
    "import subprocess\n",
    "import json\n",
    "from datetime import datetime"
   ]
  },
  {
   "cell_type": "code",
   "execution_count": 2,
   "id": "9e4e50b7",
   "metadata": {},
   "outputs": [],
   "source": [
    "# Function to get service status\n",
    "def get_service_status(service_name):\n",
    "    status = \"DOWN\"\n",
    "    try:\n",
    "        # Run systemctl command to check service status\n",
    "        output = subprocess.check_output([\"systemctl\", \"is-active\", service_name]).decode().strip()\n",
    "        if output == \"active\":\n",
    "            status = \"UP\"\n",
    "    except subprocess.CalledProcessError:\n",
    "        pass\n",
    "    return status"
   ]
  },
  {
   "cell_type": "code",
   "execution_count": 3,
   "id": "9b5080f1",
   "metadata": {},
   "outputs": [],
   "source": [
    "# Function to create JSON object\n",
    "def create_json(service_name, service_status, host_name):\n",
    "    timestamp = datetime.now().strftime(\"%Y-%m-%d_%H-%M-%S\")\n",
    "    json_data = {\n",
    "        \"service_name\": service_name,\n",
    "        \"service_status\": service_status,\n",
    "        \"host_name\": host_name\n",
    "    }\n",
    "    file_name = f\"{service_name}-status-{timestamp}.json\"\n",
    "    with open(file_name, 'w') as file:\n",
    "        json.dump(json_data, file, indent=4)\n",
    "    print(f\"JSON object created and saved to {file_name}\")"
   ]
  },
  {
   "cell_type": "code",
   "execution_count": 8,
   "id": "37cc8216",
   "metadata": {},
   "outputs": [],
   "source": [
    "# Define the service names\n",
    "services = [\"httpd\", \"rabbitMQ\", \"postgreSQL\"]\n",
    "host_name = \"host1\"  "
   ]
  },
  {
   "cell_type": "code",
   "execution_count": null,
   "id": "3f030fcc",
   "metadata": {},
   "outputs": [],
   "source": [
    "# Iterate through services\n",
    "for service in services:\n",
    "    status = get_service_status(service)\n",
    "    create_json(service, status, host_name)"
   ]
  },
  {
   "cell_type": "code",
   "execution_count": null,
   "id": "33ac2f31",
   "metadata": {},
   "outputs": [],
   "source": []
  },
  {
   "cell_type": "markdown",
   "id": "0b0f60ba",
   "metadata": {},
   "source": [
    "b)"
   ]
  },
  {
   "cell_type": "code",
   "execution_count": null,
   "id": "d1cabd2d",
   "metadata": {},
   "outputs": [],
   "source": [
    "from flask import Flask, request, jsonify\n",
    "from elasticsearch import Elasticsearch"
   ]
  },
  {
   "cell_type": "code",
   "execution_count": null,
   "id": "72c09c29",
   "metadata": {},
   "outputs": [],
   "source": [
    "app = Flask(__name__)"
   ]
  },
  {
   "cell_type": "code",
   "execution_count": null,
   "id": "246e4887",
   "metadata": {},
   "outputs": [],
   "source": [
    "# Connect to Elasticsearch\n",
    "es = Elasticsearch('localhost:9200')"
   ]
  },
  {
   "cell_type": "code",
   "execution_count": null,
   "id": "622d24e4",
   "metadata": {},
   "outputs": [],
   "source": [
    "# Endpoint to insert payload into Elasticsearch\n",
    "@app.route('/add', methods=['POST'])\n",
    "def add_to_elasticsearch():\n",
    "    try:\n",
    "        data = request.get_json()\n",
    "        # Insert payload into Elasticsearch\n",
    "        es.index(index='service_status', body=data)\n",
    "        return jsonify({\"message\": \"Data added to Elasticsearch\"}), 200\n",
    "    except Exception as e:\n",
    "        return jsonify({\"message\": str(e)}), 500"
   ]
  },
  {
   "cell_type": "code",
   "execution_count": null,
   "id": "19c5709d",
   "metadata": {},
   "outputs": [],
   "source": [
    "# Endpoint to get overall application status (UP or DOWN)\n",
    "@app.route('/healthcheck', methods=['GET'])\n",
    "def overall_healthcheck():\n",
    "    try:\n",
    "        # Elasticsearch query to get overall application status\n",
    "        res = es.search(index='service_status', body={\"query\": {\"match_all\": {}}})\n",
    "        hits = res['hits']['hits']\n",
    "        status = {\"UP\": 0, \"DOWN\": 0}\n",
    "        for hit in hits:\n",
    "            service_status = hit['_source']['service_status']\n",
    "            status[service_status] += 1\n",
    "        if status[\"DOWN\"] > 0:\n",
    "            overall_status = \"DOWN\"\n",
    "        else:\n",
    "            overall_status = \"UP\"\n",
    "        return jsonify({\"overall_status\": overall_status}), 200\n",
    "    except Exception as e:\n",
    "        return jsonify({\"message\": str(e)}), 500"
   ]
  },
  {
   "cell_type": "code",
   "execution_count": null,
   "id": "9c988770",
   "metadata": {},
   "outputs": [],
   "source": [
    "# Endpoint to get specific application status (UP or DOWN) based on service name\n",
    "@app.route('/healthcheck/<service_name>', methods=['GET'])\n",
    "def specific_healthcheck(service_name):\n",
    "    try:\n",
    "        # Elasticsearch query to get specific application status\n",
    "        res = es.search(index='service_status', body={\"query\": {\"match\": {\"service_name\": service_name}}})\n",
    "        hits = res['hits']['hits']\n",
    "        if hits:\n",
    "            service_status = hits[0]['_source']['service_status']\n",
    "            return jsonify({\"service_name\": service_name, \"service_status\": service_status}), 200\n",
    "        else:\n",
    "            return jsonify({\"message\": \"Service not found\"}), 404\n",
    "    except Exception as e:\n",
    "        return jsonify({\"message\": str(e)}), 500"
   ]
  },
  {
   "cell_type": "code",
   "execution_count": null,
   "id": "793f263d",
   "metadata": {},
   "outputs": [],
   "source": [
    "if __name__ == '__main__':\n",
    "    app.run(host='0.0.0.0', port=5000)  "
   ]
  },
  {
   "cell_type": "code",
   "execution_count": null,
   "id": "70995b39",
   "metadata": {},
   "outputs": [],
   "source": []
  }
 ],
 "metadata": {
  "kernelspec": {
   "display_name": "Python 3 (ipykernel)",
   "language": "python",
   "name": "python3"
  },
  "language_info": {
   "codemirror_mode": {
    "name": "ipython",
    "version": 3
   },
   "file_extension": ".py",
   "mimetype": "text/x-python",
   "name": "python",
   "nbconvert_exporter": "python",
   "pygments_lexer": "ipython3",
   "version": "3.9.7"
  }
 },
 "nbformat": 4,
 "nbformat_minor": 5
}
